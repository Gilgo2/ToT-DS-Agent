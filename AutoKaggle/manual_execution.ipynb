{
 "cells": [
  {
   "cell_type": "code",
   "execution_count": 1,
   "metadata": {},
   "outputs": [],
   "source": [
    "import pandas as pd"
   ]
  },
  {
   "cell_type": "code",
   "execution_count": 2,
   "metadata": {
    "collapsed": false,
    "jupyter": {
     "outputs_hidden": false
    }
   },
   "outputs": [],
   "source": [
    "pdf = pd.read_csv('./data/titanic/train.csv')"
   ]
  },
  {
   "cell_type": "code",
   "execution_count": 3,
   "metadata": {
    "collapsed": false,
    "jupyter": {
     "outputs_hidden": false
    }
   },
   "outputs": [
    {
     "name": "stdout",
     "output_type": "stream",
     "text": [
      "<class 'pandas.core.frame.DataFrame'>\n",
      "RangeIndex: 891 entries, 0 to 890\n",
      "Data columns (total 12 columns):\n",
      " #   Column       Non-Null Count  Dtype  \n",
      "---  ------       --------------  -----  \n",
      " 0   PassengerId  891 non-null    int64  \n",
      " 1   Survived     891 non-null    int64  \n",
      " 2   Pclass       891 non-null    int64  \n",
      " 3   Name         891 non-null    object \n",
      " 4   Sex          891 non-null    object \n",
      " 5   Age          714 non-null    float64\n",
      " 6   SibSp        891 non-null    int64  \n",
      " 7   Parch        891 non-null    int64  \n",
      " 8   Ticket       891 non-null    object \n",
      " 9   Fare         891 non-null    float64\n",
      " 10  Cabin        204 non-null    object \n",
      " 11  Embarked     889 non-null    object \n",
      "dtypes: float64(2), int64(5), object(5)\n",
      "memory usage: 83.7+ KB\n"
     ]
    }
   ],
   "source": [
    "def explore_dataset(dataframe):\n",
    "    explanation = \"\"\n",
    "\n",
    "    # Dataset structure, features, and target variable\n",
    "    explanation += \"Dataset Structure:\\n\"\n",
    "    explanation += str(dataframe.info()) + \"\\n\\n\"\n",
    "\n",
    "    # Summary statistics of numerical features\n",
    "    explanation += \"Summary Statistics of Numerical Features:\\n\"\n",
    "    explanation += str(dataframe.describe()) + \"\\n\\n\"\n",
    "\n",
    "    # Summary statistics of categorical features\n",
    "    explanation += \"Summary Statistics of Categorical Features:\\n\"\n",
    "    explanation += str(dataframe.describe(include=['O'])) + \"\\n\\n\"\n",
    "\n",
    "    # Identify missing or erroneous data\n",
    "    explanation += \"Missing Values:\\n\"\n",
    "    explanation += str(dataframe.isnull().sum()) + \"\\n\\n\"\n",
    "\n",
    "    return explanation\n",
    "\n",
    "# Call the explore_dataset function\n",
    "exploration_string = explore_dataset(pdf)"
   ]
  },
  {
   "cell_type": "code",
   "execution_count": 4,
   "metadata": {
    "collapsed": false,
    "jupyter": {
     "outputs_hidden": false
    }
   },
   "outputs": [
    {
     "name": "stdout",
     "output_type": "stream",
     "text": [
      "<class 'pandas.core.frame.DataFrame'>\n",
      "RangeIndex: 891 entries, 0 to 890\n",
      "Data columns (total 12 columns):\n",
      " #   Column       Non-Null Count  Dtype  \n",
      "---  ------       --------------  -----  \n",
      " 0   PassengerId  891 non-null    int64  \n",
      " 1   Survived     891 non-null    int64  \n",
      " 2   Pclass       891 non-null    int64  \n",
      " 3   Name         891 non-null    object \n",
      " 4   Sex          891 non-null    object \n",
      " 5   Age          714 non-null    float64\n",
      " 6   SibSp        891 non-null    int64  \n",
      " 7   Parch        891 non-null    int64  \n",
      " 8   Ticket       891 non-null    object \n",
      " 9   Fare         891 non-null    float64\n",
      " 10  Cabin        204 non-null    object \n",
      " 11  Embarked     889 non-null    object \n",
      "dtypes: float64(2), int64(5), object(5)\n",
      "memory usage: 83.7+ KB\n"
     ]
    }
   ],
   "source": [
    "def explore_dataset(dataframe):\n",
    "    explanation = \"\"\n",
    "\n",
    "    # Dataset structure, features, and target variable\n",
    "    explanation += \"Dataset Structure:\\n\"\n",
    "    explanation += str(dataframe.info()) + \"\\n\\n\"\n",
    "\n",
    "    # Summary statistics of numerical features\n",
    "    explanation += \"Summary Statistics of Numerical Features:\\n\"\n",
    "    explanation += str(dataframe.describe()) + \"\\n\\n\"\n",
    "\n",
    "    # Summary statistics of categorical features\n",
    "    explanation += \"Summary Statistics of Categorical Features:\\n\"\n",
    "    explanation += str(dataframe.describe(include=['O'])) + \"\\n\\n\"\n",
    "\n",
    "    # Unique values for categorical features\n",
    "    explanation += \"Unique Values of Categorical Features:\\n\"\n",
    "    for column in dataframe.select_dtypes(include='object').columns:\n",
    "        explanation += f\"{column}: {dataframe[column].unique()}\\n\"\n",
    "\n",
    "    # Identify missing or erroneous data\n",
    "    explanation += \"Missing Values:\\n\"\n",
    "    explanation += str(dataframe.isnull().sum()) + \"\\n\\n\"\n",
    "\n",
    "    return explanation\n",
    "\n",
    "# Call the explore_dataset function\n",
    "exploration_string = explore_dataset(pdf)"
   ]
  },
  {
   "cell_type": "code",
   "execution_count": 5,
   "metadata": {
    "collapsed": false,
    "jupyter": {
     "outputs_hidden": false
    }
   },
   "outputs": [],
   "source": [
    "from sklearn.impute import SimpleImputer\n",
    "from sklearn.preprocessing import OneHotEncoder, StandardScaler\n",
    "import pandas as pd\n",
    "\n",
    "def preprocess_data(dataframe):\n",
    "    # Handle missing data through imputation or removal for numerical features\n",
    "    numeric_features = dataframe.select_dtypes(include=['int64', 'float64']).columns\n",
    "    numeric_imputer = SimpleImputer(strategy='median')\n",
    "    dataframe[numeric_features] = numeric_imputer.fit_transform(dataframe[numeric_features])\n",
    "\n",
    "    # Handle missing data and perform one-hot encoding for categorical features\n",
    "    categorical_features = dataframe.select_dtypes(include=['object']).columns\n",
    "    categorical_imputer = SimpleImputer(strategy='most_frequent')\n",
    "    dataframe[categorical_features] = categorical_imputer.fit_transform(dataframe[categorical_features])\n",
    "    encoder = OneHotEncoder(handle_unknown='ignore')\n",
    "    encoded_data = encoder.fit_transform(dataframe[categorical_features])\n",
    "    encoded_columns = encoder.get_feature_names_out(categorical_features)\n",
    "    encoded_dataframe = pd.DataFrame(encoded_data.toarray(), columns=encoded_columns)\n",
    "\n",
    "    # Combine numerical and categorical features\n",
    "    preprocessed_data = pd.concat([dataframe.drop(columns=categorical_features), encoded_dataframe], axis=1)\n",
    "\n",
    "    return preprocessed_data\n",
    "\n",
    "# Call the preprocess_data function\n",
    "preprocessed_data = preprocess_data(pdf)"
   ]
  },
  {
   "cell_type": "markdown",
   "metadata": {
    "collapsed": false,
    "jupyter": {
     "outputs_hidden": false
    }
   },
   "source": []
  },
  {
   "cell_type": "markdown",
   "metadata": {
    "collapsed": false,
    "jupyter": {
     "outputs_hidden": false
    }
   },
   "source": []
  },
  {
   "cell_type": "code",
   "execution_count": 6,
   "metadata": {
    "collapsed": false,
    "jupyter": {
     "outputs_hidden": false
    }
   },
   "outputs": [],
   "source": [
    "assert type(preprocessed_data) == pd.DataFrame"
   ]
  },
  {
   "cell_type": "code",
   "execution_count": 7,
   "metadata": {
    "collapsed": false,
    "jupyter": {
     "outputs_hidden": false
    }
   },
   "outputs": [],
   "source": [
    "assert len(pdf.columns.tolist()) <= len(preprocessed_data.columns.tolist())"
   ]
  },
  {
   "cell_type": "code",
   "execution_count": 8,
   "metadata": {
    "collapsed": false,
    "jupyter": {
     "outputs_hidden": false
    }
   },
   "outputs": [],
   "source": [
    "from sklearn.tree import DecisionTreeClassifier\n",
    "from sklearn.ensemble import RandomForestClassifier\n",
    "from sklearn.svm import SVC\n",
    "from sklearn.linear_model import LogisticRegression\n",
    "from sklearn.neighbors import KNeighborsClassifier\n",
    "from sklearn.neural_network import MLPClassifier\n",
    "\n",
    "def initialize_classification_models():\n",
    "    \"\"\"\n",
    "    Initialize classification machine learning models suitable for the Titanic dataset.\n",
    "\n",
    "    Returns:\n",
    "        models (list): List of initialized classification machine learning models.\n",
    "    \"\"\"\n",
    "    models = [\n",
    "        DecisionTreeClassifier(),\n",
    "        RandomForestClassifier(),\n",
    "        SVC(),\n",
    "        LogisticRegression(),\n",
    "        KNeighborsClassifier(),\n",
    "        MLPClassifier()\n",
    "    ]\n",
    "\n",
    "    return models\n",
    "\n",
    "# Example usage:\n",
    "models = initialize_classification_models()"
   ]
  },
  {
   "cell_type": "code",
   "execution_count": 9,
   "metadata": {
    "collapsed": false,
    "jupyter": {
     "outputs_hidden": false
    }
   },
   "outputs": [],
   "source": [
    "from sklearn.model_selection import train_test_split\n",
    "X_train, X_test, y_train, y_test = train_test_split(preprocessed_data.drop(columns=['Survived']), preprocessed_data['Survived'], test_size=0.3, random_state=42)"
   ]
  },
  {
   "cell_type": "code",
   "execution_count": null,
   "metadata": {
    "collapsed": false,
    "jupyter": {
     "outputs_hidden": false
    }
   },
   "outputs": [],
   "source": [
    "from sklearn.model_selection import GridSearchCV\n",
    "from sklearn.ensemble import RandomForestClassifier\n",
    "from sklearn.svm import SVC\n",
    "from sklearn.linear_model import LogisticRegression\n",
    "\n",
    "def train_models(X_train, y_train, models):\n",
    "    \"\"\"\n",
    "    Train machine learning models using grid search with cross-validation to find the best hyperparameters.\n",
    "\n",
    "    Parameters:\n",
    "        X_train (DataFrame): Input features for training.\n",
    "        y_train (DataFrame): Target variable for training.\n",
    "        models (list): List of machine learning models to train.\n",
    "\n",
    "    Returns:\n",
    "        best_model (model): Best trained machine learning model.\n",
    "        best_params (dict): Best hyperparameters found for the best model.\n",
    "    \"\"\"\n",
    "    best_score = 0\n",
    "    best_model = None\n",
    "    best_params = None\n",
    "\n",
    "    for model in models:\n",
    "        if model == RandomForestClassifier:\n",
    "            param_grid = {\n",
    "                'n_estimators': [50, 100, 200],\n",
    "                'max_depth': [None, 10, 20],\n",
    "                'min_samples_split': [2, 5, 10],\n",
    "                'min_samples_leaf': [1, 2, 4]\n",
    "            }\n",
    "        elif model == SVC:\n",
    "            param_grid = {\n",
    "                'C': [0.1, 1, 10],\n",
    "                'kernel': ['linear', 'rbf', 'poly'],\n",
    "                'gamma': ['scale', 'auto']\n",
    "            }\n",
    "        elif model == LogisticRegression:\n",
    "            param_grid = {\n",
    "                'C': [0.1, 1, 10],\n",
    "                'solver': ['liblinear', 'lbfgs'],\n",
    "                'max_iter': [100, 200, 500]\n",
    "            }\n",
    "        else:\n",
    "            param_grid = {}\n",
    "\n",
    "        # Grid search with cross-validation\n",
    "        grid_search = GridSearchCV(estimator=model(), param_grid=param_grid, cv=5, scoring='accuracy')\n",
    "        grid_search.fit(X_train, y_train)\n",
    "\n",
    "        # Check if current model has better performance\n",
    "        if grid_search.best_score_ > best_score:\n",
    "            best_score = grid_search.best_score_\n",
    "            best_model = grid_search.best_estimator_\n",
    "            best_params = grid_search.best_params_\n",
    "\n",
    "    return best_model, best_params\n",
    "\n",
    "# Define the list of machine learning models\n",
    "classification_models = [RandomForestClassifier, SVC, LogisticRegression]\n",
    "\n",
    "# Call the train_models function\n",
    "best_model, best_params = train_models(X_train, y_train, classification_models)"
   ]
  },
  {
   "cell_type": "code",
   "execution_count": null,
   "metadata": {
    "collapsed": false,
    "jupyter": {
     "outputs_hidden": false
    }
   },
   "outputs": [],
   "source": [
    "from sklearn.metrics import accuracy_score\n",
    "\n",
    "def evaluate_model(best_model, X_test, y_test):\n",
    "    \"\"\"\n",
    "    Evaluate the best model using accuracy metric on the test set.\n",
    "\n",
    "    Parameters:\n",
    "        best_model (model): Trained machine learning model.\n",
    "        X_test (DataFrame): Input features for testing.\n",
    "        y_test (DataFrame): Target variable for testing.\n",
    "\n",
    "    Returns:\n",
    "        accuracy (float): Accuracy score of the best model on the test set.\n",
    "    \"\"\"\n",
    "    # Predict target variable on test set\n",
    "    y_pred = best_model.predict(X_test)\n",
    "\n",
    "    # Calculate accuracy score\n",
    "    accuracy = accuracy_score(y_test, y_pred)\n",
    "\n",
    "    return accuracy\n",
    "\n",
    "# Call the evaluate_model function\n",
    "test_accuracy = evaluate_model(best_model, X_test, y_test)"
   ]
  },
  {
   "cell_type": "code",
   "execution_count": null,
   "metadata": {
    "collapsed": false,
    "jupyter": {
     "outputs_hidden": false
    }
   },
   "outputs": [],
   "source": [
    "test_accuracy"
   ]
  },
  {
   "cell_type": "code",
   "execution_count": null,
   "metadata": {
    "collapsed": false,
    "jupyter": {
     "outputs_hidden": false
    }
   },
   "outputs": [],
   "source": [
    "test_pdf = pd.read_csv('./data/titanic/test.csv')\n",
    "preprocess_test_data = preprocess_data(test_pdf)\n",
    "y_pred = best_model.predict(preprocess_test_data)\n",
    "test_pdf['Survived'] = y_pred\n",
    "test_pdf[['PassengerId','Survived']].to_csv('submission.csv',index=False)"
   ]
  },
  {
   "cell_type": "code",
   "execution_count": null,
   "metadata": {
    "collapsed": false,
    "jupyter": {
     "outputs_hidden": false
    }
   },
   "outputs": [],
   "source": []
  }
 ],
 "metadata": {
  "kernelspec": {
   "display_name": "Python 3 (ipykernel)",
   "language": "python",
   "name": "python3"
  },
  "language_info": {
   "codemirror_mode": {
    "name": "ipython",
    "version": 3
   },
   "file_extension": ".py",
   "mimetype": "text/x-python",
   "name": "python",
   "nbconvert_exporter": "python",
   "pygments_lexer": "ipython3",
   "version": "3.12.4"
  }
 },
 "nbformat": 4,
 "nbformat_minor": 4
}
